{
 "cells": [
  {
   "cell_type": "code",
   "execution_count": null,
   "metadata": {},
   "outputs": [
    {
     "name": "stdout",
     "output_type": "stream",
     "text": [
      "Processing folder: /Users/alirezashoja/Documents/GitHub/fracture-pattern-analysis/data/NEU_Metal_Surface_Defects_Data/train/Crazing\n",
      "Processing folder: /Users/alirezashoja/Documents/GitHub/fracture-pattern-analysis/data/NEU_Metal_Surface_Defects_Data/train/Inclusion\n",
      "Processing folder: /Users/alirezashoja/Documents/GitHub/fracture-pattern-analysis/data/NEU_Metal_Surface_Defects_Data/train/Patches\n",
      "Processing folder: /Users/alirezashoja/Documents/GitHub/fracture-pattern-analysis/data/NEU_Metal_Surface_Defects_Data/train/Pitted\n",
      "Processing folder: /Users/alirezashoja/Documents/GitHub/fracture-pattern-analysis/data/NEU_Metal_Surface_Defects_Data/train/Rolled\n",
      "Processing folder: /Users/alirezashoja/Documents/GitHub/fracture-pattern-analysis/data/NEU_Metal_Surface_Defects_Data/train/Scratches\n",
      "Processing folder: /Users/alirezashoja/Documents/GitHub/fracture-pattern-analysis/data/NEU_Metal_Surface_Defects_Data/test/Crazing\n",
      "Processing folder: /Users/alirezashoja/Documents/GitHub/fracture-pattern-analysis/data/NEU_Metal_Surface_Defects_Data/test/Inclusion\n",
      "Processing folder: /Users/alirezashoja/Documents/GitHub/fracture-pattern-analysis/data/NEU_Metal_Surface_Defects_Data/test/Patches\n",
      "Processing folder: /Users/alirezashoja/Documents/GitHub/fracture-pattern-analysis/data/NEU_Metal_Surface_Defects_Data/test/Pitted\n",
      "Processing folder: /Users/alirezashoja/Documents/GitHub/fracture-pattern-analysis/data/NEU_Metal_Surface_Defects_Data/test/Rolled\n",
      "Processing folder: /Users/alirezashoja/Documents/GitHub/fracture-pattern-analysis/data/NEU_Metal_Surface_Defects_Data/test/Scratches\n",
      "Training data: (1656, 200, 200), (1656,)\n",
      "Testing data: (72, 200, 200), (72,)\n"
     ]
    }
   ],
   "source": [
    "import os\n",
    "import cv2\n",
    "import numpy as np\n",
    "\n",
    "# Paths for train and test data\n",
    "train_path = \"/Users/alirezashoja/Documents/GitHub/fracture-pattern-analysis/data/NEU_Metal_Surface_Defects_Data/train\"\n",
    "test_path = \"/Users/alirezashoja/Documents/GitHub/fracture-pattern-analysis/data/NEU_Metal_Surface_Defects_Data/test\"\n",
    "\n",
    "categories = [\"Crazing\", \"Inclusion\", \"Patches\", \"Pitted\", \"Rolled\", \"Scratches\"]\n",
    "\n",
    "def preprocess_data(data_path, categories):\n",
    "    images = []\n",
    "    labels = []\n",
    "    for category in categories:\n",
    "        folder_path = os.path.join(data_path, category)\n",
    "        print(f\"Processing folder: {folder_path}\")\n",
    "        for img_name in os.listdir(folder_path):\n",
    "            if not img_name.endswith(('.jpg', '.png', '.jpeg', '.bmp')):  # Include .bmp files\n",
    "                continue\n",
    "            img_path = os.path.join(folder_path, img_name)\n",
    "            img = cv2.imread(img_path, cv2.IMREAD_GRAYSCALE)\n",
    "            if img is not None:\n",
    "                img = cv2.resize(img, (200, 200))  # Resize images to 200x200\n",
    "                img = img / 255.0  # Normalize pixel values\n",
    "                images.append(img)\n",
    "                labels.append(categories.index(category))\n",
    "    return np.array(images), np.array(labels)\n",
    "\n",
    "# Preprocess train and test data rrr\n",
    "X_train, y_train = preprocess_data(train_path, categories) # x_train are number of samples and y_trains are labels of that sample\n",
    "X_test, y_test = preprocess_data(test_path, categories)\n",
    "\n",
    "print(f\"Training data: {X_train.shape}, {y_train.shape}\")\n",
    "print(f\"Testing data: {X_test.shape}, {y_test.shape}\")\n"
   ]
  },
  {
   "cell_type": "code",
   "execution_count": 19,
   "metadata": {},
   "outputs": [
    {
     "name": "stdout",
     "output_type": "stream",
     "text": [
      "Datasets saved successfully!\n"
     ]
    }
   ],
   "source": [
    "# Save preprocessed datasets\n",
    "np.save(\"/Users/alirezashoja/Documents/GitHub/fracture-pattern-analysis/data/X_train.npy\", X_train)\n",
    "np.save(\"/Users/alirezashoja/Documents/GitHub/fracture-pattern-analysis/data/y_train.npy\", y_train)\n",
    "np.save(\"/Users/alirezashoja/Documents/GitHub/fracture-pattern-analysis/data/X_test.npy\", X_test)\n",
    "np.save(\"/Users/alirezashoja/Documents/GitHub/fracture-pattern-analysis/data/y_test.npy\", y_test)\n",
    "\n",
    "print(\"Datasets saved successfully!\")"
   ]
  }
 ],
 "metadata": {
  "kernelspec": {
   "display_name": "Python 3",
   "language": "python",
   "name": "python3"
  },
  "language_info": {
   "codemirror_mode": {
    "name": "ipython",
    "version": 3
   },
   "file_extension": ".py",
   "mimetype": "text/x-python",
   "name": "python",
   "nbconvert_exporter": "python",
   "pygments_lexer": "ipython3",
   "version": "3.12.0"
  }
 },
 "nbformat": 4,
 "nbformat_minor": 2
}
